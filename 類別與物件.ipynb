{
 "cells": [
  {
   "cell_type": "code",
   "execution_count": 14,
   "metadata": {},
   "outputs": [
    {
     "name": "stdout",
     "output_type": "stream",
     "text": [
      "Hello 我叫cwj 20 10\n",
      "Hello 我叫lee 25 1\n",
      "Hello 我叫Cathy 20 1\n"
     ]
    }
   ],
   "source": [
    "# 物件導向程式設計\n",
    "# 用物件來表達多欄位資料\n",
    "\n",
    "#1.類別(class):創造物件的模板/藍圖 必須要先有類別才有物件\n",
    "#             類別就是要來產生物件的\n",
    "\n",
    "#2.物件(object):1.可以有一個以上欄位(屬性,attribute)，以及方法(function)\n",
    "#              2.物件必須要透過類別(class)產生\n",
    "\n",
    "#設計一個名為 User 的類別\n",
    "#初始化函式可以給預設值\n",
    "class User:\n",
    "    def __init__(self,name,age,level=1):\n",
    "        #初始函數:會在類別產生物件時自動被觸發\n",
    "        #self:代表類別產生的物件\n",
    "        self.name=name\n",
    "        self.age=age\n",
    "        self.level=level\n",
    "        self.intro()\n",
    "\n",
    "\n",
    "\n",
    "    def intro(self):\n",
    "        print(f\"Hello 我叫{self.name} {self.age} {self.level}\")\n",
    "\n",
    "        \n",
    "a = User(\"cwj\",20,10)\n",
    "b = User(\"lee\",25)\n",
    "c = User(\"Cathy\",20)\n",
    "\n",
    "\n"
   ]
  }
 ],
 "metadata": {
  "kernelspec": {
   "display_name": "base",
   "language": "python",
   "name": "python3"
  },
  "language_info": {
   "codemirror_mode": {
    "name": "ipython",
    "version": 3
   },
   "file_extension": ".py",
   "mimetype": "text/x-python",
   "name": "python",
   "nbconvert_exporter": "python",
   "pygments_lexer": "ipython3",
   "version": "3.12.7"
  }
 },
 "nbformat": 4,
 "nbformat_minor": 2
}
